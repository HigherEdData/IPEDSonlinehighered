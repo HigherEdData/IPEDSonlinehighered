{
 "cells": [
  {
   "cell_type": "markdown",
   "metadata": {},
   "source": [
    "# Promising or Predatory? Online Education in Non-Profit and For-Profit Universities\n",
    "## By Christian Michael Smith, Amber D. Villalobos (equal authors), Laura T. Hamilton, and Charlie Eaton \n",
    "### Coded by Amber D. Villalobos \n",
    "#### This notebook downloads the data files needed for the BPS 2012 analysis of this paper (Table A2, Table 5, Figure 2, Figure 3, Figure 4)\n",
    "\n",
    "Source: Data are from the Beginning Postsecondary Students Longitudinal Study 12/17 (BPS) Restricted Use Dataset."
   ]
  },
  {
   "cell_type": "code",
   "execution_count": 2,
   "metadata": {},
   "outputs": [
    {
     "name": "stdout",
     "output_type": "stream",
     "text": [
      "P:\\pr-nces-rudl-18040008\\HERElab\\repositories\\predatory-inclusion-in-online-ed\\\n",
      "> d_data\n"
     ]
    }
   ],
   "source": [
    "cd P:\\pr-nces-rudl-18040008\\HERElab\\repositories\\predatory-inclusion-in-online-ed\\d_data"
   ]
  },
  {
   "cell_type": "code",
   "execution_count": 3,
   "metadata": {},
   "outputs": [
    {
     "name": "stdout",
     "output_type": "stream",
     "text": [
      "P:\\pr-nces-rudl-18040008\\HERElab\\repositories\\predatory-inclusion-in-online-ed\\\n",
      "> d_data\n"
     ]
    }
   ],
   "source": [
    "pwd"
   ]
  },
  {
   "cell_type": "code",
   "execution_count": 4,
   "metadata": {},
   "outputs": [
    {
     "name": "stdout",
     "output_type": "stream",
     "text": [
      "\n",
      ". quietly {\n",
      "\n",
      ". \n"
     ]
    }
   ],
   "source": [
    "quietly {\n",
    "insheet using \"G:\\NCES_Data\\bps_2012_2017_pets\\data\\source\\bps17schinfo_datafile.csv\", clear\n",
    "save \"P:\\pr-nces-rudl-18040008\\HERElab\\repositories\\predatory-inclusion-in-online-ed\\d_data\\bps17schinfo_datafile_rudl\", replace\n",
    "}"
   ]
  },
  {
   "cell_type": "code",
   "execution_count": 5,
   "metadata": {},
   "outputs": [
    {
     "name": "stdout",
     "output_type": "stream",
     "text": [
      "\n",
      ". quietly {\n",
      "\n",
      ". \n"
     ]
    }
   ],
   "source": [
    "quietly {\n",
    "//  reshape school info data wide by student id \n",
    "bysort id: gen schoolnum=_n\n",
    "sum schoolnum \n",
    "keep id unitid npsassch datebeg schoolnum\n",
    "reshape wide unitid npsassch datebeg,  i(id) j(schoolnum) \n",
    "save \"npsasid_rudl\", replace \n",
    "}"
   ]
  },
  {
   "cell_type": "code",
   "execution_count": 6,
   "metadata": {},
   "outputs": [
    {
     "name": "stdout",
     "output_type": "stream",
     "text": [
      "\n",
      ". quietly {\n",
      "\n",
      ". \n"
     ]
    }
   ],
   "source": [
    "quietly {\n",
    "//  download derived data file \n",
    "clear \n",
    "insheet using \"G:\\NCES_Data\\bps_2012_2017_pets\\data\\derived\\bps17petsderived_datafile.csv\",clear\n",
    "save \"P:\\pr-nces-rudl-18040008\\HERElab\\repositories\\predatory-inclusion-in-online-ed\\d_data\\bps17derived_datafile_rudl\", replace\n",
    "}"
   ]
  },
  {
   "cell_type": "code",
   "execution_count": 7,
   "metadata": {},
   "outputs": [
    {
     "name": "stdout",
     "output_type": "stream",
     "text": [
      "\n",
      ". quietly {\n",
      "\n",
      ". \n"
     ]
    }
   ],
   "source": [
    "quietly {\n",
    "// select variables needed \n",
    "use id altonlnd ugdeg fsector fcontrol degonln17 ittyla6y ugdeg17 itctla6y everdef17 stscum17 stugucum17 stfucum17 cumuln17 stfcum17 athty6y race gender zgender pareduc cagi income age delayenr pmarital teactder tesatder hsgpa localres hrswk12 fedrpy17 forbar17 dlqever17 fsecdoc hbcu pell12 wta000 wtb000 using bps17derived_datafile_rudl,clear\n",
    "}"
   ]
  },
  {
   "cell_type": "code",
   "execution_count": 8,
   "metadata": {},
   "outputs": [
    {
     "name": "stdout",
     "output_type": "stream",
     "text": [
      "Unknown magic %head.\n"
     ]
    }
   ],
   "source": [
    "%head"
   ]
  },
  {
   "cell_type": "code",
   "execution_count": 9,
   "metadata": {},
   "outputs": [],
   "source": [
    "*list if _n>10 & _n<15"
   ]
  },
  {
   "cell_type": "code",
   "execution_count": 10,
   "metadata": {},
   "outputs": [
    {
     "name": "stdout",
     "output_type": "stream",
     "text": [
      "\n",
      ". quietly {\n",
      "\n",
      ". \n"
     ]
    }
   ],
   "source": [
    "quietly {\n",
    "// drop those unit nonresponse on gender to align with the cases used in NCES 2020\n",
    "keep if zgender >=1 & zgender<=7\n",
    "}"
   ]
  },
  {
   "cell_type": "code",
   "execution_count": 11,
   "metadata": {},
   "outputs": [
    {
     "name": "stdout",
     "output_type": "stream",
     "text": [
      "\n",
      ". quietly {\n",
      "\n",
      ". \n"
     ]
    }
   ],
   "source": [
    "quietly {\n",
    "// merge bps with school info file that has been reshaped wide \n",
    "merge 1:1 id using npsasid_rudl, gen(onlinepredation_rawvars)\n",
    "}"
   ]
  },
  {
   "cell_type": "code",
   "execution_count": 12,
   "metadata": {},
   "outputs": [
    {
     "name": "stdout",
     "output_type": "stream",
     "text": [
      "\n",
      ". // save \n",
      ". save bps17_schoolinfo_rudl.dta, replace\n",
      "file bps17_schoolinfo_rudl.dta saved\n",
      "\n",
      ". \n"
     ]
    }
   ],
   "source": [
    "// save \n",
    "save bps17_schoolinfo_rudl.dta, replace"
   ]
  },
  {
   "cell_type": "code",
   "execution_count": null,
   "metadata": {},
   "outputs": [],
   "source": []
  }
 ],
 "metadata": {
  "kernelspec": {
   "display_name": "Stata",
   "language": "stata",
   "name": "stata"
  },
  "language_info": {
   "codemirror_mode": "stata",
   "file_extension": ".do",
   "mimetype": "text/x-stata",
   "name": "stata",
   "version": "15.1"
  }
 },
 "nbformat": 4,
 "nbformat_minor": 4
}
