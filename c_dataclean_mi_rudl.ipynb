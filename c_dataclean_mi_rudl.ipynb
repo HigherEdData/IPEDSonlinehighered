{
 "cells": [
  {
   "cell_type": "markdown",
   "metadata": {},
   "source": [
    "# Promising or Predatory? Online Education in Non-Profit and For-Profit Universities\n",
    "## By Christian Michael Smith, Amber D. Villalobos (equal authors), Laura T. Hamilton, and Charlie Eaton \n",
    "### Coded by Amber D. Villalobos and Christian Michael Smith. \n",
    "#### This notebook cleans and then multiply imputes data for Table 5 and Figure 4 of the BPS analysis. This code should be run after running c_data_rudl notebook \n",
    "Source: Data are from the Beginning Postsecondary Students Longitudinal Study 12/17 (BPS)\n",
    "Restricted Use Dataset."
   ]
  },
  {
   "cell_type": "code",
   "execution_count": 2,
   "metadata": {},
   "outputs": [
    {
     "name": "stdout",
     "output_type": "stream",
     "text": [
      "P:\\pr-nces-rudl-18040008\\HERElab\\repositories\\predatory-inclusion-in-online-ed\\\n",
      "> d_data\n"
     ]
    }
   ],
   "source": [
    "cd P:\\pr-nces-rudl-18040008\\HERElab\\repositories\\predatory-inclusion-in-online-ed\\d_data"
   ]
  },
  {
   "cell_type": "code",
   "execution_count": 3,
   "metadata": {},
   "outputs": [],
   "source": [
    "use bps17_schoolinfo_rudl.dta, clear"
   ]
  },
  {
   "cell_type": "code",
   "execution_count": 4,
   "metadata": {},
   "outputs": [
    {
     "name": "stdout",
     "output_type": "stream",
     "text": [
      "\n",
      ".  quietly {\n",
      "\n",
      ". \n"
     ]
    }
   ],
   "source": [
    " quietly {\n",
    "\n",
    "*******************************************************************\n",
    "************First Institution '11-'12 Entirely Online**************\n",
    "*******************************************************************\n",
    "*\tName: altonlnd\n",
    "*\tDescription: Indicates whether the student's entire degree program \n",
    "*\tat the first institution was taught online.\n",
    "*\tNotes: Only applies to respondents who took all classes online. \n",
    "\n",
    "gen firstonline=.\n",
    "replace firstonline=0 if altonlnd==0\n",
    "replace firstonline=1 if altonlnd==1\n",
    "tab firstonline altonlnd\n",
    "label var firstonline \"First Degree Entirely Online\"\n",
    "label define Lfirstonline 0 \"No\" 1 \"Yes\"\n",
    "label val firstonline Lfirstonline\n",
    "tab firstonline\n",
    "\n",
    "}"
   ]
  },
  {
   "cell_type": "code",
   "execution_count": 5,
   "metadata": {},
   "outputs": [
    {
     "name": "stdout",
     "output_type": "stream",
     "text": [
      "\n",
      ".  quietly {\n",
      "\n",
      ". \n"
     ]
    }
   ],
   "source": [
    " quietly {\n",
    "\n",
    "*******************************************************************\n",
    "************First Institution '11-'12 Four Year and Online**************\n",
    "*******************************************************************\n",
    "*\tName: fsector and altonlnd\n",
    "*\tDescription: Indicates control and level of first institution of first\n",
    "*\tinstituion attended in 11-12; fsector 1,2,3 are all 4-year; (altonlnd==1 is online )\n",
    "*\tNotes: \n",
    "\n",
    "gen firstfouryearonline2=.\n",
    "replace firstfouryearonline2=0 if fsector==1 | fsector==2 | fsector==3\n",
    "replace firstfouryearonline2=1 if (fsector==1 & altonlnd==1)  | ///\n",
    "(fsector==2 & altonlnd==1)  | (fsector==3 & altonlnd==1)\n",
    "label var firstfouryearonline2 \"First Degree Four Year and Online\"\n",
    "label define Lfirstfouryearonline2 0 \"No\" 1 \"Yes\"\n",
    "label val firstfouryearonline2 Lfirstfouryearonline2\n",
    " }"
   ]
  },
  {
   "cell_type": "code",
   "execution_count": 6,
   "metadata": {},
   "outputs": [
    {
     "name": "stdout",
     "output_type": "stream",
     "text": [
      "\n",
      ". quietly {\n",
      "\n",
      ". \n"
     ]
    }
   ],
   "source": [
    "quietly {\n",
    "*******************************************************************\n",
    "*****First Intitution is Four Year: Online or Not and Sector *****\n",
    "*******************************************************************\n",
    "*\tName: combines firstfouryearonline2 and fsector\n",
    "*\tDescription: For ALL whose first institution was a four year, \n",
    "*\tindicates whether online and which sector.\n",
    "*\tNotes: This was updated July 5, 2022. Want to use fsector across\n",
    "*\tthe variables for first yaer institution as opposed to the \n",
    "*\tpreviously used fcontrol in firsttype10\n",
    "\n",
    "gen firsttype10=.\n",
    "replace firsttype10=0 if firstfouryearonline2==0 & fsector==1\n",
    "replace firsttype10=1 if  firstfouryearonline2==0 & fsector==2\n",
    "replace firsttype10=2 if  firstfouryearonline2==0 & fsector==3\n",
    "replace firsttype10=3 if firstfouryearonline2==1 & fsector==1\n",
    "replace firsttype10=4 if  firstfouryearonline2==1 & fsector==2\n",
    "replace firsttype10=5 if  firstfouryearonline2==1 & fsector==3\n",
    "label var firsttype10 \"First institution four year, online, and sector\"\n",
    "label define Lfirsttype10 0 \"Offline Public\" 1 \"Offline Private Non Prof\" ///\n",
    "2 \"Offline Private For Prof\" 3 \"Online Public\" 4 \"Online Private Non Prof\" 5 \"Online Private For Prof\"\n",
    "label val firsttype10 Lfirsttype10\n",
    "}"
   ]
  },
  {
   "cell_type": "code",
   "execution_count": 7,
   "metadata": {},
   "outputs": [
    {
     "name": "stdout",
     "output_type": "stream",
     "text": [
      "\n",
      ". quietly {\n",
      "\n",
      ". \n"
     ]
    }
   ],
   "source": [
    "quietly {\n",
    "\n",
    "*******************************************************************\n",
    "************Last Institution Entirely Online***********************\n",
    "*******************************************************************\n",
    "*\tName: degonln17\n",
    "*\tDescription: Based on 2017 student interview, indicates whether\n",
    "*\tthe respondent's entire certificate or degree program at their\n",
    "*most recent institution is online.\n",
    "*\tNotes: \n",
    "\n",
    "gen lastonline=.\n",
    "replace lastonline=0 if degonln17==0\n",
    "replace lastonline=1 if degonln17==1\n",
    "tab lastonline degonln17\n",
    "label var lastonline \"Most Recent Degree Entirely Online\"\n",
    "label define Llastonline 0 \"No\" 1 \"Yes\"\n",
    "label val lastonline Llastonline\n",
    "}"
   ]
  },
  {
   "cell_type": "code",
   "execution_count": 8,
   "metadata": {},
   "outputs": [
    {
     "name": "stdout",
     "output_type": "stream",
     "text": [
      "\n",
      ". quietly {\n",
      "\n",
      ". \n"
     ]
    }
   ],
   "source": [
    "quietly {\n",
    "\n",
    "*******************************************************************\n",
    "************Last Institution Attended was 4 year and Online********\n",
    "*******************************************************************\n",
    "*\tName: ittyla6y and degonln17\n",
    "*\tDescription: Based on 2017 student interview, indicates type of institution last attended in 2017 for all respondents (four year is ittyla6y == 1,2,3). degonln17 indicates whether most recent instituion was entirely online. \n",
    "*\tNotes: \n",
    "\n",
    "gen lastfouryearonline2=.\n",
    "replace lastfouryearonline2=0 if ittyla6y==1 | ittyla6y==2 | ittyla6y==3 \n",
    "replace lastfouryearonline2=1 if (ittyla6y==1 & degonln17==1) | (ittyla6y==2 & degonln17==1) | (ittyla6y==3 & degonln17==1)\n",
    "label var lastfouryearonline2 \"Last Degree Four Year and Online\"\n",
    "label define Llastfouryearonline2  0 \"no\" 1 \"yes\"\n",
    "label val lastfouryearonline2 Llastfouryearonline2\n",
    "}"
   ]
  },
  {
   "cell_type": "code",
   "execution_count": 9,
   "metadata": {},
   "outputs": [
    {
     "name": "stdout",
     "output_type": "stream",
     "text": [
      "\n",
      ". quietly {\n",
      "\n",
      ". \n"
     ]
    }
   ],
   "source": [
    "quietly {\n",
    "*******************************************************************\n",
    "**** Last Intitution is Four Year: Online or Not and Control *****\n",
    "*******************************************************************\n",
    "*\tName: combines lastfouryearonline2 and ittyla64\n",
    "*\tDescription: For ALL whose last institution was a four year, indicates whether online and which sector.\n",
    "*\tNotes: This was updated July 5, 2022 to use ittyla6y. we want to use this across al variables for last institution as opposed to the previously used itcla6y that was used in lasttype10 \n",
    "\n",
    "gen lasttype10=.\n",
    "replace lasttype10=0 if lastfouryearonline2==0 & ittyla6y==1\n",
    "replace lasttype10=1 if  lastfouryearonline2==0 & ittyla6y==2\n",
    "replace lasttype10=2 if  lastfouryearonline2==0 & ittyla6y==3\n",
    "replace lasttype10=3 if lastfouryearonline2==1 & ittyla6y==1\n",
    "replace lasttype10=4 if  lastfouryearonline2==1 & ittyla6y==2\n",
    "replace lasttype10=5 if  lastfouryearonline2==1 & ittyla6y==3\n",
    "label var lasttype10 \"Last institution four year, online, and sector\"\n",
    "label define Llasttype10 0 \"Offline Public\" 1 \"Offline Private Non prof\" 2 \"Offline Private For Prof\" 3 \"Online Public\" 4 \"Online Private Non Prof\" 5 \"Online Private For Prof\"\n",
    "label val lasttype10 Llasttype10\n",
    "}\n"
   ]
  },
  {
   "cell_type": "code",
   "execution_count": 10,
   "metadata": {},
   "outputs": [
    {
     "name": "stdout",
     "output_type": "stream",
     "text": [
      "\n",
      ". quietly {\n",
      "\n",
      ". \n"
     ]
    }
   ],
   "source": [
    "quietly {\n",
    "*******************************************************************\n",
    "**** Ever For Profit? Four year only. ONline or Brick and Mortar *****\n",
    "*******************************************************************\n",
    "*\tName: combines firsttype10 (first INSTITUTION is four year and includes sector and whether online and lasttype1010 (last institution is four year and includes sector and whether online). both of these were updated July 5 2022 to streamline the variables used in firstfouryearonline2 and lastfouryearonline2. \n",
    "*\tDescription: For ALL whose first and last institutions were four year, online or brick and mortar, this variable indicates whether ever in a for profit. \n",
    "*\tNotes: categories 2 and 5 are the for profits \n",
    "\n",
    "\n",
    "\n",
    "gen everforprofit10=.\n",
    "replace everforprofit10=0 if (firsttype10==0 & lasttype10==0) | (firsttype10==0 & lasttype10==1) |(firsttype10==0 & lasttype10==3) |(firsttype10==0 & lasttype10==4) | (firsttype10==0 & lasttype10==.) | (firsttype10==1 & lasttype10==0) | (firsttype10==1 & lasttype10==1) |(firsttype10==1 & lasttype10==3) |(firsttype10==1 & lasttype10==4) | (firsttype10==1 & lasttype10==.) | (firsttype10==3 & lasttype10==0) | (firsttype10==3 & lasttype10==1) |(firsttype10==3 & lasttype10==3) |(firsttype10==3 & lasttype10==4) | (firsttype10==3 & lasttype10==.) | (firsttype10==4 & lasttype10==0) | (firsttype10==4 & lasttype10==1) |(firsttype10==4 & lasttype10==3) |(firsttype10==4 & lasttype10==4) | (firsttype10==4 & lasttype10==.) \n",
    "replace everforprofit10=1 if firsttype10==2 | firsttype10==5 |  (firsttype10==0 & lasttype10==2) | (firsttype10==0 & lasttype10==5) | (firsttype10==1 & lasttype10==2) | (firsttype10==1 & lasttype10==5) | (firsttype10==2 & lasttype10==2) | (firsttype10==2 & lasttype10==5) | (firsttype10==3 & lasttype10==2) | (firsttype10==3 & lasttype10==5) | (firsttype10==4 & lasttype10==2) | (firsttype10==4 & lasttype10==5) | (firsttype10==5 & lasttype10==2) | (firsttype10==5 & lasttype10==5) \n",
    "label var everforprofit10 \"Ever attnded a four-year for profit school\"\n",
    "label define Leverforprofit10 0 \"No\" 1 \"Yes\"\n",
    "label val everforprofit10 Leverforprofit10\n",
    "\n",
    "}"
   ]
  },
  {
   "cell_type": "code",
   "execution_count": 11,
   "metadata": {},
   "outputs": [
    {
     "name": "stdout",
     "output_type": "stream",
     "text": [
      "\n",
      ". quietly {\n",
      "\n",
      ". \n"
     ]
    }
   ],
   "source": [
    "quietly {\n",
    "\n",
    "*******************************************************************\n",
    "**** Ever Private *****\n",
    "*******************************************************************\n",
    "*\tName: combines firsttype10 (first INSTITUTION is four year and includes sector and whether online and lasttype10 (last institution is four year and includes sector and whether online)\n",
    "*\tDescription: For ALL whose first and last institutions were four year, online or brick and mortar, this variable indicates whether ever private\n",
    "*\tNotes: categorices 1,2,4 and 5 are the [privates]\n",
    "*\t*\tThis is updated as of July 5, 2022. We want to include those who started at 4 years but did  not end at 4 years as a 0 and started at 4 years privates but didn't end at 4 years in our 1 \n",
    "*\twe want all whose first year was, so I can use or statements in the 1 category for the firsttype10\n",
    "\n",
    "gen everprivate10=.\n",
    "replace everprivate10=0 if (firsttype10==0 & lasttype10==0) | (firsttype10==0 & lasttype10==3) | (firsttype10==3 & lasttype10==0) | (firsttype10==3 & lasttype10==3) | (firsttype10==0 & lasttype10==.) | (firsttype10==3 & lasttype10==.)\n",
    "replace everprivate10=1 if firsttype10==1 | firsttype10==2 | firsttype10==4 | firsttype10==5 | (firsttype10==0 & lasttype10==1)   | (firsttype10==0 & lasttype10==2) | (firsttype10==0 & lasttype10==4) | (firsttype10==0 & lasttype10==5)  | (firsttype10==1 & lasttype10==1)   | (firsttype10==1 & lasttype10==2) | (firsttype10==1 & lasttype10==4) | (firsttype10==1 & lasttype10==5) | (firsttype10==2 & lasttype10==1)   | (firsttype10==2 & lasttype10==2) | (firsttype10==2 & lasttype10==4) | (firsttype10==2 & lasttype10==5) | (firsttype10==3 & lasttype10==1)   | (firsttype10==3 & lasttype10==2) | (firsttype10==3 & lasttype10==4) | (firsttype10==3 & lasttype10==5) | (firsttype10==4 & lasttype10==1)   | (firsttype10==4 & lasttype10==2) | (firsttype10==4 & lasttype10==4) | (firsttype10==4 & lasttype10==5) | (firsttype10==5 & lasttype10==1)   | (firsttype10==5 & lasttype10==2) | (firsttype10==5 & lasttype10==4) | (firsttype10==5 & lasttype10==5) \n",
    "label var everprivate10 \"Ever attnded a private school\"\n",
    "label define Leverprivate10 0 \"No\" 1 \"Yes\"\n",
    "label val everprivate10 Leverprivate10 \n",
    "\n",
    "}"
   ]
  },
  {
   "cell_type": "code",
   "execution_count": 12,
   "metadata": {},
   "outputs": [
    {
     "name": "stdout",
     "output_type": "stream",
     "text": [
      "\n",
      ". quietly {\n",
      "\n",
      ". \n"
     ]
    }
   ],
   "source": [
    "quietly {\n",
    "\n",
    "*******************************************************************\n",
    "************Among 4-years, ever in a four-year online program******\n",
    "** \t\tupdated with firstfouryearonline2 which uses fsector as opposed to ugdeg. \n",
    "*******************************************************************\n",
    "\n",
    "*\tName: firstfouryearonline2 , lastfouryearonline2\n",
    "*\tDescription: Uses both first and last \n",
    "*\tNote: we dont want to use or statements for our 0 category bc some test 1 and lastfouryearonline are the same people and we dont want to double count them. \n",
    "*\tThis is updated as of July 5, 2022. We want to include those who started at 4 years but did  not end at 4 years as a 0 and started at 4 years online but didn't end at 4 years in our 1 \n",
    "\n",
    "gen everonline10=.\n",
    "replace everonline10=0 if (firstfouryearonline2==0 & lastfouryearonline2==0) | (firstfouryearonline2==0 & lastfouryearonline2==.)\n",
    "replace everonline10=1 if (firstfouryearonline2==1 & lastfouryearonline2==1) | (firstfouryearonline2==1 & lastfouryearonline2==0) | (firstfouryearonline2==0 & lastfouryearonline2==1) | (firstfouryearonline2==1 & lastfouryearonline2==.)\n",
    "label var everonline10 \"Student ever attended a four-year online program\"\n",
    "label define Leveronline10 0 \"No\" 1 \"Yes\"\n",
    "label val everonline10 Leveronline10\n",
    "\n",
    "}"
   ]
  },
  {
   "cell_type": "code",
   "execution_count": 13,
   "metadata": {},
   "outputs": [
    {
     "name": "stdout",
     "output_type": "stream",
     "text": [
      "\n",
      ". quietly {\n",
      "\n",
      ". \n"
     ]
    }
   ],
   "source": [
    "quietly {\n",
    "*******************************************************************\n",
    "************Gender**************************************************\n",
    "*******************************************************************\n",
    "*\tName: gender\n",
    "*\tDescription: indicates student sex\n",
    "\n",
    "gen female=.\n",
    "replace female=0 if gender==1\n",
    "replace female=1 if gender==2\n",
    "label var female \"female\"\n",
    "label define Lfemale 0 \"male\" 1 \"female\"\n",
    "label val female Lfemale\n",
    "}"
   ]
  },
  {
   "cell_type": "code",
   "execution_count": 14,
   "metadata": {},
   "outputs": [
    {
     "name": "stdout",
     "output_type": "stream",
     "text": [
      "\n",
      ". quietly {\n",
      "\n",
      ". \n"
     ]
    }
   ],
   "source": [
    "quietly {\n",
    "*******************************************************************\n",
    "************Race***************************************************\n",
    "*******************************************************************\n",
    "*\tName: race\n",
    "*\tDescription: The student's race/ethnicity with Hispanic or Latino origin (HISPANIC=1) as a separate category.\n",
    "\n",
    "gen RACE=.\n",
    "replace RACE=0 if race==1\n",
    "replace RACE=1 if race==2\n",
    "replace RACE=2 if race==3\n",
    "replace RACE=3 if race==4\n",
    "replace RACE=4 if race==5 | race==6 | race==7\n",
    "label var RACE \"Race\"\n",
    "label define LRACE 0 \"white\" 1 \"black\" 2 \"Hispanic\" 3 \"Asian\" 4 \"AI, HI, Multi\"\n",
    "label val RACE LRACE\n",
    "tabulate RACE, gen (races) \n",
    "}"
   ]
  },
  {
   "cell_type": "code",
   "execution_count": 15,
   "metadata": {},
   "outputs": [
    {
     "name": "stdout",
     "output_type": "stream",
     "text": [
      "\n",
      ". quietly {\n",
      "\n",
      ". \n"
     ]
    }
   ],
   "source": [
    "quietly {\n",
    "\n",
    "*******************************************************************\n",
    "************Race10***************************************************\n",
    "*******************************************************************\n",
    "*\tName: race\n",
    "*\tDescription: The student's race/ethnicity with Hispanic or Latino origin (HISPANIC=1) as a separate category.\n",
    "*\tNotes: I group 5,6 as one since they are small \n",
    "// updated july 11 2022 multiracial alone \n",
    "\n",
    "gen RACE10=.\n",
    "replace RACE10=0 if race==1\n",
    "replace RACE10=1 if race==2\n",
    "replace RACE10=2 if race==3\n",
    "replace RACE10=3 if race==4\n",
    "replace RACE10=4 if race==5 | race==6 \n",
    "replace RACE10=5 if race==7\n",
    "label var RACE10 \"Race\"\n",
    "label define LRACE10 0 \"white\" 1 \"black\" 2 \"Hispanic\" 3 \"Asian\" 4 \"AI, HI\" 5 \"Multi\"\n",
    "label val RACE10 LRACE10\n",
    "tabulate RACE10, gen (races10) \n",
    "\n",
    "}"
   ]
  },
  {
   "cell_type": "code",
   "execution_count": 16,
   "metadata": {},
   "outputs": [
    {
     "name": "stdout",
     "output_type": "stream",
     "text": [
      "\n",
      ". quietly {\n",
      "\n",
      ". \n"
     ]
    }
   ],
   "source": [
    "quietly {\n",
    "*** AGE *************************************************\n",
    "*******************************************************************\n",
    "*\tName: age\n",
    "* \tDescription: The student's age as of 12/31/2011. Aid applicants who were age 24 on or before this date were automatically determined to be independent students.\n",
    "*\tNotes: \n",
    "\n",
    "gen AGE=age\n",
    "replace AGE=. if AGE==-5 | AGE==-9\n",
    "sum age \n",
    "label var AGE \"respondent's age as of 2011\"\n",
    "\n",
    "}"
   ]
  },
  {
   "cell_type": "code",
   "execution_count": 17,
   "metadata": {},
   "outputs": [
    {
     "name": "stdout",
     "output_type": "stream",
     "text": [
      "\n",
      ". quietly {\n",
      "\n",
      ". \n"
     ]
    }
   ],
   "source": [
    "quietly {\n",
    "//\t\tNew Pell variables\n",
    "//\t\tname: pell12\n",
    "//\t\tdescription: total amount of federal pell grants received at all institutions attended in '11-'12\n",
    "gen pell=.\n",
    "replace pell=0 if pell12 ==0\n",
    "replace pell=1 if pell12 >=1\n",
    "label var pell \"Received pell grant in '11- '12\"\n",
    "label define Lpell 0 \"No\" 1 \"Yes\"\n",
    "label val pell Lpell\n",
    "}"
   ]
  },
  {
   "cell_type": "code",
   "execution_count": 18,
   "metadata": {},
   "outputs": [
    {
     "name": "stdout",
     "output_type": "stream",
     "text": [
      "\n",
      ". quietly {\n",
      "\n",
      ". \n"
     ]
    }
   ],
   "source": [
    "quietly {\n",
    "*******************************************************************\n",
    "************Parent's Highest Level of Ed***************************\n",
    "*******************************************************************\n",
    "*\tName: pareduc\n",
    "*\tDescription:  The highest level of education achieved by either parent of the student as of 2011-12.\n",
    "*\tNotes: I dichotimize for parent has BA\n",
    "\n",
    "gen pared=.\n",
    "replace pared=0 if pareduc==0 | pareduc==1 | pareduc==2 | pareduc==3\n",
    "replace pared=1 if pareduc==4 | pareduc==5\n",
    "replace pared=2 if pareduc==6 | pareduc==7 | pareduc==8 | pareduc==9\n",
    "label var pared \"Parent's highest level of education\"\n",
    "label define Lpared 0 \"less than associated\" 1 \"Associate's or some college\" 2 \"BA +\"\n",
    "label val pared Lpared\n",
    "tabulate pared, gen(pared)\n",
    "}"
   ]
  },
  {
   "cell_type": "code",
   "execution_count": 19,
   "metadata": {},
   "outputs": [
    {
     "name": "stdout",
     "output_type": "stream",
     "text": [
      "\n",
      ". quietly {\n",
      "\n",
      ". \n"
     ]
    }
   ],
   "source": [
    "quietly {\n",
    "\n",
    "*******************************************************************\n",
    "************Parent's Highest Level of Ed CONTINUOUS****************\n",
    "*******************************************************************\n",
    "*\tName: pareduc\n",
    "*\tDescription:  The highest level of education achieved by either parent of the student as of 2011-12.\n",
    "*\tNotes: This is updated as of July 8, 2022 to make continuous using Christian's coding scheme. \n",
    "//. missing if cateory 0, do not know either parent's education \n",
    "//10 if category 1 did not complete hs\n",
    "//11 if category 2 high school or equivalent\n",
    "//13 if category 3 vocational/technical training \n",
    "// 14 if category 4 associates\n",
    "//14 if category 5 some college but no degreee\n",
    "//16 if category 6 bachelor's degress\n",
    "//18 if catefoty 7 masters or equivalent\n",
    "//21 if cateogory 8 doctoral profesional or cateogry 9 doctoral research. \n",
    "\n",
    "gen pared10=.\n",
    "replace pared10=10 if pareduc==1\n",
    "replace pared10=12 if pareduc==2\n",
    "replace pared10=13 if pareduc==3\n",
    "replace pared10=14 if pareduc==4\n",
    "replace pared10=14 if pareduc==5\n",
    "replace pared10=16 if pareduc==6\n",
    "replace pared10=18 if pareduc==7\n",
    "replace pared10=21 if pareduc==8 | pareduc==9\n",
    "label var pared10 \"Parent's highest level of education continuous\"\n",
    "\n",
    "}"
   ]
  },
  {
   "cell_type": "code",
   "execution_count": 20,
   "metadata": {},
   "outputs": [
    {
     "name": "stdout",
     "output_type": "stream",
     "text": [
      "\n",
      ". quietly {\n",
      "\n",
      ". \n"
     ]
    }
   ],
   "source": [
    "quietly {\n",
    "\n",
    "*******************************************************************\n",
    "************ACT SCORE ********************************\n",
    "*******************************************************************\n",
    "*\tName: teactder\n",
    "*\tDescription:  ACT composite score or converted from SAT score; applies to all respondents under age 30 who took ACT or SAT as of 2012 NPSAS\n",
    "*\tNotes: \n",
    "\n",
    "gen act=teactder\n",
    "replace act=. if teactder==-3\n",
    "sum act\n",
    "label var act \"act score'\"\n",
    " }"
   ]
  },
  {
   "cell_type": "code",
   "execution_count": 21,
   "metadata": {},
   "outputs": [
    {
     "name": "stdout",
     "output_type": "stream",
     "text": [
      "\n",
      ". quietly {\n",
      "\n",
      ". \n"
     ]
    }
   ],
   "source": [
    "quietly {\n",
    "*******************************************************************\n",
    "************ High School GPA ********************************\n",
    "*******************************************************************\n",
    "*\tName: hsgpa\n",
    "* \tDescription: self reported HS GPA for those under 30 as of NPSAS 12\n",
    "*\tNotes: \n",
    "\n",
    "gen gpa_=.\n",
    "replace gpa_=0 if hsgpa==1 | hsgpa==2 | hsgpa==3\n",
    "replace gpa_=1 if hsgpa==4 | hsgpa==5\n",
    "replace gpa_=2 if hsgpa==6 | hsgpa==7\n",
    "label var gpa_  \"High school gpa\" \n",
    "label define Lgpa_ 0 \"1.9 or less\" 1 \"2.0-2.9\" 2 \"3.0-4.0\"\n",
    "label val gpa_ Lgpa_ \n",
    "tabulate gpa_, gen(gpa_)\n",
    "}"
   ]
  },
  {
   "cell_type": "code",
   "execution_count": 22,
   "metadata": {},
   "outputs": [
    {
     "name": "stdout",
     "output_type": "stream",
     "text": [
      "\n",
      ". quietly {\n",
      "\n",
      ". \n"
     ]
    }
   ],
   "source": [
    "quietly {\n",
    "*******************************************************************\n",
    "************ High School GPA-continuous*******************************\n",
    "*******************************************************************\n",
    "*\tName: hsgpa\n",
    "* \tDescription: self reported HS GPA for those under 30 as of NPSAS 12\n",
    "*\tNotes: updated to be continuous july 11, 2022\n",
    "\n",
    "gen gpa10=.\n",
    "replace gpa10=0.75 if hsgpa==1 \n",
    "replace gpa10=1.25 if hsgpa==2\n",
    "replace gpa10=1.75 if hsgpa==3 \n",
    "replace gpa10=2.25 if hsgpa==4\n",
    "replace gpa10=2.75 if hsgpa==5\n",
    "replace gpa10=3.25 if hsgpa==6 \n",
    "replace gpa10=3.75 if hsgpa==7\n",
    "label var gpa10  \"High school gpa continuous\" \n",
    "}"
   ]
  },
  {
   "cell_type": "code",
   "execution_count": 23,
   "metadata": {},
   "outputs": [
    {
     "name": "stdout",
     "output_type": "stream",
     "text": [
      "\n",
      ". quietly {\n",
      "\n",
      ". \n"
     ]
    }
   ],
   "source": [
    "quietly {\n",
    "//\t\tAverage Hours worked per week in all paid jobs while enrolled in 11-12\n",
    "//      categorical version \n",
    "//\t\t0, 1-20, 21+\n",
    "\n",
    "gen works_=.\n",
    "replace works_=0 if hrswk12==0\n",
    "replace works_=1 if hrswk12>=1 & hrswk12<=20\n",
    "replace works_=2 if hrswk12>=21 & hrswk12<=120\n",
    "tab works\n",
    "label var works_ \"Hours per week worked while enrolled\"\n",
    "label define Lworks_ 0 \"Zero\" 1 \"1-20\" 2 \"21 +\"\n",
    "label val works_ Lworks_\n",
    "tabulate works, generate(works_)\n",
    "}\n"
   ]
  },
  {
   "cell_type": "code",
   "execution_count": 24,
   "metadata": {},
   "outputs": [
    {
     "name": "stdout",
     "output_type": "stream",
     "text": [
      "\n",
      ". quietly{\n",
      "\n",
      ". \n"
     ]
    }
   ],
   "source": [
    "quietly{\n",
    "\n",
    "//\t\tAverage Hours worked per week in all paid jobs while enrolled in 11-12\n",
    "//\t\tcontinuous \n",
    "//\t\tnew as of July 11, 2022 , continous \n",
    "\n",
    "gen works10=hrswk12\n",
    "replace works10=. if hrswk12==-8\n",
    "sum works10\n",
    "label var works10 \"hours worked per week in all paid jobs\"\n",
    "}"
   ]
  },
  {
   "cell_type": "code",
   "execution_count": 25,
   "metadata": {},
   "outputs": [
    {
     "name": "stdout",
     "output_type": "stream",
     "text": [
      "\n",
      ". quietly {\n",
      "\n",
      ". \n"
     ]
    }
   ],
   "source": [
    "quietly {\n",
    "//\t\tTrichotomized commuter \n",
    "//\t\tI leave out category 4 \"attended more than one instituion\"\n",
    "gen commuter3=.\n",
    "replace commuter3=0 if localres==1 \n",
    "replace commuter3=1 if localres==2 \n",
    "replace commuter3=2 if localres==3\n",
    "label var commuter3  \"Student lives with parents 11-12\" \n",
    "label define Lcommuter3 0 \"on campus\"  1\"off campus\" 2 \"lives with parents\" \n",
    "label val commuter3 Lcommuter3 \n",
    "tabulate commuter3, gen(commuter3) \n",
    "}"
   ]
  },
  {
   "cell_type": "code",
   "execution_count": 26,
   "metadata": {},
   "outputs": [
    {
     "name": "stdout",
     "output_type": "stream",
     "text": [
      "\n",
      ". quietly {\n",
      "\n",
      ". \n"
     ]
    }
   ],
   "source": [
    "quietly {\n",
    "*******************************************************************\n",
    "************ HBCU Status ***********\n",
    "*******************************************************************\n",
    "*\tName: hbcu\n",
    "* \tDescription: whether institution attended in 11-12 is HBCU\n",
    "*\tNotes: applies to all respondents \n",
    "\n",
    "gen HBCU=.\n",
    "replace HBCU=0 if hbcu==0\n",
    "replace HBCU=1 if hbcu==1\n",
    "label var HBCU \"First institution is hbcu\" \n",
    "label define LHBCU 0 \"no\" 1 \"yes\"\n",
    "label val HBCU LHBCU\n",
    "}"
   ]
  },
  {
   "cell_type": "code",
   "execution_count": 27,
   "metadata": {},
   "outputs": [
    {
     "name": "stdout",
     "output_type": "stream",
     "text": [
      "\n",
      ". quietly {\n",
      "\n",
      ". \n"
     ]
    }
   ],
   "source": [
    "quietly {\n",
    "*******************************************************************\n",
    "************ Highest degree offered by first institution***********\n",
    "*******************************************************************\n",
    "*\tName: fsecdoc\n",
    "* \tDescription: whether institution attended in 11-12 is doctorate granting \n",
    "*\tNotes: applies to all respondents ; I leave out category 1 which is non four-year institutions. Our analysis only includes four-year institutions. \n",
    "\n",
    "gen highestdegree=.\n",
    "replace highestdegree=0 if fsecdoc==2\n",
    "replace highestdegree=1 if fsecdoc==1\n",
    "label var highestdegree \"Highest degreee offered at first institution attended\" \n",
    "label define Lhighestdegree 0 \"not doctorate granting\" 1 \"doctorate granting\"\n",
    "label val highestdegree Lhighestdegree\n",
    "tabulate highestdegree, gen(highestdegree)\n",
    "}"
   ]
  },
  {
   "cell_type": "code",
   "execution_count": 28,
   "metadata": {},
   "outputs": [
    {
     "name": "stdout",
     "output_type": "stream",
     "text": [
      "\n",
      ". quietly {\n",
      "\n",
      ". \n"
     ]
    }
   ],
   "source": [
    "quietly {\n",
    "\n",
    "*******************************************************************\n",
    "************BA attained through June 2017**************************\n",
    "*******************************************************************\n",
    "*\tName: athty6y\n",
    "*\tDescription: Indicatesthe highest degree attained anywhere through June 2017.\n",
    "*\tNotes: \n",
    "\n",
    "gen ba=.\n",
    "replace ba=0 if athty6y==0 | athty6y==1 | athty6y==2\n",
    "replace ba=1 if athty6y==3\n",
    "tab ba athty6y\n",
    "label var ba \"BA Attained as of 2017\"\n",
    "label define Lba 0 \"Less than BA\" 1 \"BA\"\n",
    "label val ba Lba\n",
    "}"
   ]
  },
  {
   "cell_type": "code",
   "execution_count": 29,
   "metadata": {},
   "outputs": [
    {
     "name": "stdout",
     "output_type": "stream",
     "text": [
      "\n",
      ". quietly {\n",
      "\n",
      ". \n"
     ]
    }
   ],
   "source": [
    "quietly {\n",
    "\n",
    "*******************************************************************\n",
    "************ Cumulative sub and unsub Loans for undergrad *********\n",
    "*******************************************************************\n",
    "*\tName: stfucum17\n",
    "*\tDescription: Indicates the cumulative Direct Subsidized and Unsubsidized Loan (also known as subsidized and unsubsidized Stafford Loans) amount the respondent borrowed for undergrad through 2017.\n",
    "*\tNotes: all respondents \n",
    "\n",
    "gen subunsub_under=stfucum17\n",
    "replace subunsub_under=. if subunsub_under==-5\n",
    "sum subunsub_under\n",
    "label var subunsub_under \"Cumulative Direct and Subsidized Loans for Undergrad\"\n",
    "}"
   ]
  },
  {
   "cell_type": "code",
   "execution_count": 30,
   "metadata": {},
   "outputs": [
    {
     "name": "stdout",
     "output_type": "stream",
     "text": [
      "\n",
      ". quietly {\n",
      "\n",
      ". \n"
     ]
    }
   ],
   "source": [
    "quietly {\n",
    "\n",
    "*******************************************************************\n",
    "************ Respondent borrowed or not (using undergrad loan amount) ********************************\n",
    "*******************************************************************\n",
    "*\tName: stfucum17\n",
    "* \tDescription:stfucum17 applies to all respondents. \n",
    "\n",
    "gen borrowed_loans=.\n",
    "replace borrowed_loans=0 if stfucum17==0\n",
    "replace borrowed_loans=1 if stfucum17>=1 & stfucum17 <=61249\n",
    "label var borrowed_loans  \"borrowed loans for undergrad\" \n",
    "label define Lborrowed_loans 0 \"No\"  1\"Yes\" \n",
    "label val borrowed_loans Lborrowed_loans\n",
    "}"
   ]
  },
  {
   "cell_type": "code",
   "execution_count": 31,
   "metadata": {},
   "outputs": [
    {
     "name": "stdout",
     "output_type": "stream",
     "text": [
      "\n",
      ". quietly {\n",
      "\n",
      ". \n"
     ]
    }
   ],
   "source": [
    "quietly {\n",
    "\n",
    "*******************************************************************\n",
    "************ Ever Defaulted on Undergrad Loans ************\n",
    "*******************************************************************\n",
    "*\tName: everdef17\n",
    "*\tDescription: Indicates whether respondent ever defauled on a sub or unsubsidized loan through 2017\n",
    "*\tNotes: all respondents who took out federal loans for undergrad through 2017\n",
    "\n",
    "/// default\n",
    "gen everdefaulted=.\n",
    "replace everdefaulted=0 if everdef17==0\n",
    "replace everdefaulted=1 if everdef17==1\n",
    "tab everdef17 everdefaulted\n",
    "label var everdefaulted  \"Student ever defaulted on loan\"\n",
    "label define Leverdefauled 0 \"no\" 1 \"yes\"\n",
    "label val everdefaulted Leverdefaulted\n",
    "}"
   ]
  },
  {
   "cell_type": "code",
   "execution_count": 32,
   "metadata": {},
   "outputs": [
    {
     "name": "stdout",
     "output_type": "stream",
     "text": [
      "\n",
      ". quietly {\n",
      "\n",
      ". \n"
     ]
    }
   ],
   "source": [
    "quietly {\n",
    "*******************************************************************\n",
    "************ Ever Delinquent ********************************\n",
    "*******************************************************************\n",
    "*\tName: dlqever17\n",
    "* \tDescription: whether respondent ever delinquent on a loan through 2017\n",
    "*\tNotes: applies to respondents who took out federal loans for undergrad through 2017\n",
    "\n",
    "gen delinquent=.\n",
    "replace delinquent=0 if dlqever17==0\n",
    "replace delinquent=1 if dlqever17==1\n",
    "label var delinquent  \"Ever Delinquent\" \n",
    "label define Ldelinquent 0 \"No\"  1\"Yes\" \n",
    "label val delinquent Ldelinquent\n",
    "}"
   ]
  },
  {
   "cell_type": "code",
   "execution_count": 33,
   "metadata": {},
   "outputs": [
    {
     "name": "stdout",
     "output_type": "stream",
     "text": [
      "\n",
      ". quietly {\n",
      "\n",
      ". \n"
     ]
    }
   ],
   "source": [
    "quietly {\n",
    "*******************************************************************\n",
    "************ Ever Forbearance, 2017 ********************************\n",
    "*******************************************************************\n",
    "*\tName: forbar17\n",
    "* \tDescription: whether respondent ever had forbearance through 2017\n",
    "*\tNotes: applies to respondents who took out federal loans for undergrad through 2017\n",
    "\n",
    "gen forbearance=.\n",
    "replace forbearance=0 if forbar17==0\n",
    "replace forbearance=1 if forbar17==1\n",
    "label var forbearance  \"Ever Forbearance\" \n",
    "label define Lforbearance 0 \"No\"  1\"Yes\" \n",
    "label val forbearance Lforbearance\n",
    "}"
   ]
  },
  {
   "cell_type": "code",
   "execution_count": 34,
   "metadata": {},
   "outputs": [
    {
     "name": "stdout",
     "output_type": "stream",
     "text": [
      "\n",
      ". quietly {\n",
      "\n",
      ". \n"
     ]
    }
   ],
   "source": [
    "quietly {\n",
    "*******************************************************************\n",
    "************ Monthly Repayment in 2017 ********************************\n",
    "*******************************************************************\n",
    "*\tName: fedrpy17\n",
    "* \tDescription: the monely payment amount for all federal student loans in 2017\n",
    "*\tNotes: applies to respondents who are currently repaying federal loans \n",
    "\n",
    "gen repayment17= fedrpy17\n",
    "replace repayment17=. if repayment17==-3\n",
    "label var repayment17 \"Monthly repayment amount 2017\"\n",
    "sum repayment17\n",
    "}"
   ]
  },
  {
   "cell_type": "code",
   "execution_count": 35,
   "metadata": {},
   "outputs": [
    {
     "name": "stdout",
     "output_type": "stream",
     "text": [
      "\n",
      ". quietly {\n",
      "\n",
      ". \n"
     ]
    }
   ],
   "source": [
    "quietly {\n",
    "**Creating squared and cubed terms for act (for IPWRA analysis) \n",
    "gen act2= act^2\n",
    "gen act3= act^3  \n",
    "}"
   ]
  },
  {
   "cell_type": "code",
   "execution_count": 36,
   "metadata": {},
   "outputs": [
    {
     "name": "stdout",
     "output_type": "stream",
     "text": [
      "\n",
      ". quietly {\n",
      "\n",
      ". \n"
     ]
    }
   ],
   "source": [
    "quietly {\n",
    "\n",
    "///\t\tCreating id for the npsas institution (first institution attended and surveyed at)\n",
    "//\t\tThese data were merged in from the dataset i labeled \"npsasid\"\n",
    "//\t\tThese data come from the BPS data file for \"School Info\"\n",
    "//\t\tI first reshaped them as wide in the do file \"BPS_SchoolID). \n",
    "//\t\tThere were up to 8 institutions listed for each respondent\n",
    "//\t\tThus, there were up to 8 institution ids per respondent\n",
    "//\t\tI used unitid (the unit id for each school) and npsassch (an indicator for whether the school is the npsas school from which the respondent was first sampled and surveyed)\n",
    "//\t\tI generate a variable for each school called cluster, as the unit id for each school if that school IS the npsas school. if not the npsas school, it is defined as missing\n",
    "//\t\tI then use roemax to assign each person the unitid of thier npsas school \n",
    "//\t\tI will use this variable to cluster by school id of the sampled school \n",
    "gen cluster1= unitid1 if npsassch1==1\n",
    "gen cluster2= unitid2 if npsassch2==1\n",
    "gen cluster3= unitid3 if npsassch3==1\n",
    "gen cluster4= unitid4 if npsassch4==1\n",
    "gen cluster5= unitid5 if npsassch5==1\n",
    "gen cluster6= unitid6 if npsassch6==1\n",
    "gen cluster7= unitid7 if npsassch7==1\n",
    "gen cluster8= unitid8 if npsassch8==1\n",
    "egen cluster9= rowmax (cluster1 cluster2 cluster3 cluster4 cluster5 cluster6 cluster7 cluster8)\n",
    "}"
   ]
  },
  {
   "cell_type": "code",
   "execution_count": 37,
   "metadata": {},
   "outputs": [
    {
     "name": "stderr",
     "output_type": "stream",
     "text": [
      "Exception in thread Stata:\n",
      "Traceback (most recent call last):\n",
      "  File \"C:\\Program Files\\Python37\\lib\\threading.py\", line 926, in _bootstrap_inner\n",
      "    self.run()\n",
      "  File \"C:\\Program Files\\Stata17\\utilities\\pystata\\core\\stout.py\", line 169, in run\n",
      "    raise SystemError(output)\n",
      "SystemError: / is not a valid command name\n",
      "r(199);\n",
      "\n",
      "\n"
     ]
    }
   ],
   "source": [
    "// begin multiple imputation code "
   ]
  },
  {
   "cell_type": "code",
   "execution_count": 38,
   "metadata": {},
   "outputs": [
    {
     "name": "stdout",
     "output_type": "stream",
     "text": [
      "\n",
      ". quietly {\n",
      "\n",
      ". \n"
     ]
    }
   ],
   "source": [
    "quietly {\n",
    "//      Create binary indicator of initial 4yr attendance\n",
    "gen fouryear = (everonline10 != .)\n",
    "la var fouryear \"R's first college is 4yr\"\n",
    "}"
   ]
  },
  {
   "cell_type": "code",
   "execution_count": 39,
   "metadata": {},
   "outputs": [
    {
     "name": "stdout",
     "output_type": "stream",
     "text": [
      "\n",
      ". quietly {\n",
      "\n",
      ". \n"
     ]
    }
   ],
   "source": [
    "quietly {\n",
    "//\t\tRename dichotomous indicator of whether R is Black\n",
    "rename races2 Black\n",
    "}"
   ]
  },
  {
   "cell_type": "code",
   "execution_count": 40,
   "metadata": {},
   "outputs": [
    {
     "name": "stdout",
     "output_type": "stream",
     "text": [
      "\n",
      ". quietly {\n",
      "\n",
      ". \n"
     ]
    }
   ],
   "source": [
    "quietly {\n",
    "//\t\tCreate trichotomous measure of 4yr online status\n",
    "gen everonline10_tri = everonline10\n",
    "replace everonline10_tri = 2 if everonline10==.\n",
    "la def online10 0 \"4yr, never online\" 1 \"4yr, ever online\" 2 \"Not 4yr\"\n",
    "la values everonline10_tri online10\n",
    "}"
   ]
  },
  {
   "cell_type": "code",
   "execution_count": 41,
   "metadata": {},
   "outputs": [
    {
     "name": "stdout",
     "output_type": "stream",
     "text": [
      "\n",
      ". quietly {\n",
      "\n",
      ". \n"
     ]
    }
   ],
   "source": [
    "quietly {\n",
    "//\t\tCode everprivate10 as private FOUR-YEAR college indicator without missingness (=0 even if private 2yr)\n",
    "replace everprivate10 = 0 if everprivate10==.\n",
    "la var everprivate10 \"Ever attended a private 4yr school\"\n",
    "}"
   ]
  },
  {
   "cell_type": "code",
   "execution_count": 42,
   "metadata": {},
   "outputs": [
    {
     "name": "stdout",
     "output_type": "stream",
     "text": [
      "\n",
      ". quietly {\n",
      "\n",
      ". \n"
     ]
    }
   ],
   "source": [
    "quietly {\n",
    "//\t\tSet multiple imputation\n",
    "mi set wide\n",
    "}"
   ]
  },
  {
   "cell_type": "code",
   "execution_count": 43,
   "metadata": {},
   "outputs": [
    {
     "name": "stdout",
     "output_type": "stream",
     "text": [
      "\n",
      ". quietly {\n",
      "\n",
      ". \n"
     ]
    }
   ],
   "source": [
    "quietly {\n",
    "//\t\tRegister data and run imputations\n",
    "mi register imputed  gpa10 act commuter3 works10 pared10\n",
    "mi register regular  fouryear female RACE10 pell fsecdoc HBCU everprivate10 subunsub_under ba everonline10_tri\n",
    "mi impute chained (mlogit) commuter3 (pmm, knn(10)) act gpa10 works10 pared10 = female i.RACE10 pell AGE i.fsecdoc i.everonline10_tri HBCU subunsub_under ba, add(5) augment\n",
    "}"
   ]
  },
  {
   "cell_type": "code",
   "execution_count": 44,
   "metadata": {},
   "outputs": [
    {
     "name": "stdout",
     "output_type": "stream",
     "text": [
      "\n",
      ". quietly {\n",
      "\n",
      ". \n"
     ]
    }
   ],
   "source": [
    "quietly {\n",
    "//\t\tEstimate probit model of 4yr using imputed data\n",
    "mi estimate, saving(miests, replace): probit fouryear i.female i.RACE10 i.pell c.pared10##c.pared10 c.AGE##c.AGE c.gpa10##c.gpa10 c.act##c.act\n",
    "}"
   ]
  },
  {
   "cell_type": "code",
   "execution_count": 45,
   "metadata": {},
   "outputs": [
    {
     "name": "stdout",
     "output_type": "stream",
     "text": [
      "\n",
      ". quietly {\n",
      "\n",
      ". \n"
     ]
    }
   ],
   "source": [
    "quietly {\n",
    "//\t\tYield probit indices\n",
    "mi predict xb_mi using miests\n",
    "}"
   ]
  },
  {
   "cell_type": "code",
   "execution_count": 46,
   "metadata": {},
   "outputs": [
    {
     "name": "stdout",
     "output_type": "stream",
     "text": [
      "\n",
      ". quietly {\n",
      "\n",
      ". \n"
     ]
    }
   ],
   "source": [
    "quietly {\n",
    "//\t\tYield predicted probabilities from probit indices\n",
    "mi xeq: gen prfouryear = normprob(xb_mi)\n",
    "la var prfouryear \"Predicted probability of being a 4yr college student\"\n",
    "}"
   ]
  },
  {
   "cell_type": "code",
   "execution_count": 47,
   "metadata": {},
   "outputs": [
    {
     "name": "stdout",
     "output_type": "stream",
     "text": [
      "\n",
      ". quietly {\n",
      "\n",
      ". \n"
     ]
    }
   ],
   "source": [
    "quietly {\n",
    "//\t\tCompare distribution of binary outcome to that of predicted probability of outcome\n",
    "summ fouryear prfouryear\n",
    "}"
   ]
  },
  {
   "cell_type": "code",
   "execution_count": 48,
   "metadata": {},
   "outputs": [
    {
     "name": "stdout",
     "output_type": "stream",
     "text": [
      "\n",
      ". quietly {\n",
      "\n",
      ". \n"
     ]
    }
   ],
   "source": [
    "quietly {\n",
    "//\t\tModify weights (once for wtb, once for wta)\n",
    "gen wtb4yr = wtb000*(1/prfouryear)\n",
    "gen wta4yr = wta000*(1/prfouryear)\n",
    "}"
   ]
  },
  {
   "cell_type": "code",
   "execution_count": 49,
   "metadata": {},
   "outputs": [
    {
     "name": "stdout",
     "output_type": "stream",
     "text": [
      "\n",
      ". quietly {\n",
      "\n",
      ". \n"
     ]
    }
   ],
   "source": [
    "quietly {\n",
    "//\t\tCreate quadratic and cubic terms for continuous variables\n",
    "gen AGE_2 = AGE^2\n",
    "gen AGE_3 = AGE^3\n",
    "foreach var in gpa10 pared10 works10 {\n",
    "\tmi xeq: gen `var'_2 = `var'^2\n",
    "\tmi xeq: gen `var'_3 = `var'^3\n",
    "}\n",
    "}"
   ]
  },
  {
   "cell_type": "code",
   "execution_count": 50,
   "metadata": {},
   "outputs": [
    {
     "name": "stdout",
     "output_type": "stream",
     "text": [
      "\n",
      ". quietly {\n",
      "\n",
      ". \n"
     ]
    }
   ],
   "source": [
    "quietly {\n",
    "//\t\tCode sector indicators\n",
    "gen forprofit = everforprofit10\n",
    "gen nonprofit = (everforprofit10==0)\n",
    "replace nonprofit = . if everforprofit10==.\n",
    "gen both = 1\n",
    "replace both = . if everforprofit10==.\n",
    "}"
   ]
  },
  {
   "cell_type": "code",
   "execution_count": 51,
   "metadata": {},
   "outputs": [
    {
     "name": "stdout",
     "output_type": "stream",
     "text": [
      "\n",
      ". quietly {\n",
      "\n",
      ". \n"
     ]
    }
   ],
   "source": [
    "quietly {\n",
    "//\t\tCode logged debt variables\n",
    "gen logdebt1 = log(subunsub_under+1)\n",
    "gen logdebt = log(subunsub_under)\n",
    "}"
   ]
  },
  {
   "cell_type": "code",
   "execution_count": 52,
   "metadata": {},
   "outputs": [
    {
     "name": "stdout",
     "output_type": "stream",
     "text": [
      "\n",
      ". quietly{\n",
      "\n",
      ". \n"
     ]
    }
   ],
   "source": [
    "quietly{\n",
    "\n",
    "//\t\tGive outcomes shorter names to accommodate convention for naming global macros\n",
    "rename everdefaulted dflt\n",
    "rename delinquent dlq \n",
    "rename forbearance fbr\n",
    "rename borrowed_loans borr\n",
    "}"
   ]
  },
  {
   "cell_type": "code",
   "execution_count": 53,
   "metadata": {},
   "outputs": [
    {
     "name": "stdout",
     "output_type": "stream",
     "text": [
      "\n",
      ". //              Save dataset with new weights and multiply imputed values\n",
      ". save  mi_bps_vars_2022_rudl.dta, replace\n",
      "file mi_bps_vars_2022_rudl.dta saved\n",
      "\n",
      ". \n"
     ]
    }
   ],
   "source": [
    "//\t\tSave dataset with new weights and multiply imputed values\n",
    "save  mi_bps_vars_2022_rudl.dta, replace"
   ]
  },
  {
   "cell_type": "code",
   "execution_count": null,
   "metadata": {},
   "outputs": [],
   "source": []
  }
 ],
 "metadata": {
  "kernelspec": {
   "display_name": "Stata",
   "language": "stata",
   "name": "stata"
  },
  "language_info": {
   "codemirror_mode": "stata",
   "file_extension": ".do",
   "mimetype": "text/x-stata",
   "name": "stata",
   "version": "15.1"
  }
 },
 "nbformat": 4,
 "nbformat_minor": 4
}
