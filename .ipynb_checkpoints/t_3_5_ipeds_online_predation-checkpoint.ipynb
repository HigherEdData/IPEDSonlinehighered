{
 "cells": [
  {
   "cell_type": "markdown",
   "id": "0354d3c5-46cd-4cf2-bc1d-82700aaa76b9",
   "metadata": {},
   "source": [
    "## Predatory Inclusion in Non-Profit and For-Profit Online Education\n",
    "### By Christian Michael Smith, Amber D. Villalobos (equal authors), Laura T. Hamilton, and Charlie Eaton\n",
    "\n",
    "### Code by Christian Smith\n",
    "\n",
    "### Estimation for Tables 3 and 5"
   ]
  },
  {
   "cell_type": "code",
   "execution_count": null,
   "id": "5d5756c5-bf10-453f-8abc-a3f8ddecda3f",
   "metadata": {},
   "outputs": [],
   "source": [
    "use data/d_t3_t5_ipeds_scorecard, clear"
   ]
  },
  {
   "cell_type": "code",
   "execution_count": null,
   "id": "15efcbde-c1f0-456b-82b8-6704602242ee",
   "metadata": {},
   "outputs": [],
   "source": [
    "describe, size"
   ]
  },
  {
   "cell_type": "code",
   "execution_count": null,
   "id": "d70f083c-8081-4d3f-b6b9-06a7eb1fc14b",
   "metadata": {},
   "outputs": [],
   "source": [
    "set more off"
   ]
  },
  {
   "cell_type": "code",
   "execution_count": null,
   "id": "02d07e6d-324b-464c-b54f-61113b4e2a79",
   "metadata": {},
   "outputs": [],
   "source": [
    "**********(A) SETUP DATA FOR ANALYSIS ETC**********\n",
    "\n",
    "*Keep only 4yr institutions\n",
    "keep if iclevel==1\n",
    "\n",
    "*Drop observations from the 2020-2021 academic year \n",
    "drop if year==2020\n",
    "\n",
    "*Define sets of control variables\n",
    "\t*Control variable set when dependent variable is student body demographic in nature\n",
    "global controls_demog \"i.year i.control i.hdegofr1 i.locale i.obereg hbcu\"\n",
    "\t*Control variable set when dependent variable is a student outcome\n",
    "global controls_outcome \"i.year logenrl blackpct_u latinxpct_u aianpct_u asiapct_u malepct_u upgrntp acceptrate i.control i.hdegofr1 i.locale i.obereg hbcu\""
   ]
  },
  {
   "cell_type": "code",
   "execution_count": null,
   "id": "f9d067cd-0e95-496b-ba56-12f53abdb686",
   "metadata": {},
   "outputs": [],
   "source": [
    "**********(B) ESTIMATE %ONLINE --> DEPENDENT VARIABLE RELATIONSHIPS**********\n",
    "\n",
    "*Estimate %online --> student demographics relationships (unconditional)\n",
    "foreach demogvar in upgrntp blackpct_u {\n",
    "\tforeach control in allcontrols forprofit nonprofit {\n",
    "\t\treg `demogvar' pctonline10 if `control'==1, vce(cluster unitid)\n",
    "\t\tdisplay \"Dependent variable:  `demogvar',  Control: `control'\"\n",
    "\t}\n",
    "}\n",
    "\n",
    "\n",
    "*Estimate %online --> student demographics relationships (conditional on baseline institutional characteristics)\n",
    "foreach demogvar in upgrntp blackpct_u {\n",
    "\tforeach control in allcontrols forprofit nonprofit {\n",
    "\t\treg `demogvar' pctonline10 $controls_demog if `control'==1, vce(cluster unitid)\n",
    "\t\tdisplay \"Dependent variable:  `demogvar',  Control: `control'\"\n",
    "\t}\n",
    "}\n",
    "\n",
    "*Estimate %online --> student outcome relationships\n",
    "foreach outcomevar in ret_pcf gradrate6 totloan_a bbrr2_fed_ug_dflt bbrr2_fed_ug_dlnq bbrr2_fed_ug_fbr bbrr2_fed_ug_noprog bbrr2_fed_ug_discharge bbrr2_fed_ug_dfr  bbrr2_fed_ug_makeprog bbrr2_fed_ug_paidinfull {\n",
    "\tforeach control in allcontrols forprofit nonprofit {\n",
    "\t\treg `outcomevar' pctonline10 $controls_outcome if `control'==1, vce(cluster unitid)\n",
    "\t\tdisplay \"Dependent variable:  `outcomevar',  Control: `control'\"\n",
    "\t}\n",
    "}"
   ]
  },
  {
   "cell_type": "code",
   "execution_count": null,
   "id": "23b20768-aafd-49d2-9516-a6333afc43c9",
   "metadata": {},
   "outputs": [],
   "source": [
    "**********(C) COMPUTE DESCRIPTIVE STATISTICS**********\n",
    "set line 255\n",
    "*Describe continuous variables\n",
    "univar pctonline blackpct_u ret_pcf gradrate6 totloan_a bbrr2_fed_ug_dflt bbrr2_fed_ug_dlnq bbrr2_fed_ug_fbr bbrr2_fed_ug_dfr bbrr2_fed_ug_noprog bbrr2_fed_ug_makeprog bbrr2_fed_ug_paidinfull bbrr2_fed_ug_discharge logenrl latinxpct_u aianpct_u asiapct_u malepct_u upgrntp acceptrate hbcu\n",
    "\n",
    "*Describe categorical variables\n",
    "tab year \n",
    "tab control \n",
    "tab hdegofr1 \n",
    "tab locale \n",
    "tab obereg\n",
    "\n",
    "*Show online shares by sector and year \n",
    "foreach sector in nonprofit forprofit {\n",
    "\tforvalues yr=2012/2019 {\n",
    "\t\tsumm pctonline if year==`yr' & `sector'==1\n",
    "\t\tdisplay \"Sector:  `sector',  Year: `yr'\"\n",
    "\t}\n",
    "}\n"
   ]
  }
 ],
 "metadata": {
  "kernelspec": {
   "display_name": "Stata",
   "language": "stata",
   "name": "stata"
  },
  "language_info": {
   "codemirror_mode": "stata",
   "file_extension": ".do",
   "mimetype": "text/x-stata",
   "name": "stata",
   "version": "15.1"
  }
 },
 "nbformat": 4,
 "nbformat_minor": 5
}
